{
 "cells": [
  {
   "cell_type": "code",
   "execution_count": null,
   "metadata": {
    "colab": {
     "base_uri": "https://localhost:8080/"
    },
    "id": "byvCr_1sXqQf",
    "outputId": "dd27577a-5ea1-4874-f33b-4f840a1abcac"
   },
   "outputs": [],
   "source": [
    "try:\n",
    "    from firedrake import *\n",
    "except ImportError:\n",
    "    !wget \"https://fem-on-colab.github.io/releases/firedrake-install-real.sh\" -O \"/tmp/firedrake-install.sh\" && bash \"/tmp/firedrake-install.sh\"\n",
    "    from firedrake import *"
   ]
  },
  {
   "cell_type": "markdown",
   "metadata": {
    "id": "P1ae9UrSablz"
   },
   "source": [
    "# Finite element discretisations of the linear shallow water equations\n",
    "Recall that the linear shallow water equations are prognostic equations for two variables, the velocity $u$ and the fluid depth $h$:\n",
    "\\begin{eqnarray}\n",
    "u_t + h_x &=& 0, \\\\\n",
    "h_t + u_x &=& 0,\n",
    "\\end{eqnarray}\n",
    "where we have taken the physical parameters describing the acceleration due to gravity $g=1$ and the mean fluid depth $H=1$ and we are considering the non-rotating case.\n",
    "\n",
    "We will solve these equations on a periodic interval of length 2, using the finite element weak form given by:\n",
    "\\begin{eqnarray}\n",
    "\\int_0^2 (w u_t - w_x h)\\, dx &=& 0 \\quad &\\forall w &\\in V_u, \\\\\n",
    "\\int_0^2 (\\phi h_t - \\phi_x u) \\, dx &=& 0 \\quad &\\forall \\phi &\\in V_h.\n",
    "\\end{eqnarray}\n",
    "\n",
    "Initially we will take both $V_u$ and $V_h$ to be the same: piecewise linear functions, continuous between elements. We will make a mixed finite element space $W = (V_u, V_h)$ and a function $U = (u, h)$ on $W$. Splitting $U$ gives us $u$ and $h$ and we can initialise $h$ as a narrow Gaussian in the middle of the domain. This initial condition should generate two waves, one propagating to the left and one to the right.\n"
   ]
  },
  {
   "cell_type": "code",
   "execution_count": null,
   "metadata": {
    "colab": {
     "base_uri": "https://localhost:8080/",
     "height": 282
    },
    "id": "hLqQsdOEXqQi",
    "outputId": "7c938cca-c7e9-4a2e-aa34-f71a9802d64b"
   },
   "outputs": [],
   "source": [
    "mesh = PeriodicIntervalMesh(120, 2)\n",
    "Vu = FunctionSpace(mesh, \"CG\", 1)\n",
    "Vh = FunctionSpace(mesh, \"CG\", 1)\n",
    "W = Vu*Vh\n",
    "U = Function(W)\n",
    "u, h = U.split()\n",
    "x = SpatialCoordinate(mesh)\n",
    "a = 0.025\n",
    "h.interpolate(exp(-(x[0]-1)**2/a**2))\n",
    "plot(h)"
   ]
  },
  {
   "cell_type": "markdown",
   "metadata": {
    "id": "ngwhDtiBeOvt"
   },
   "source": [
    "Now we set up our finite element weak forms. We will use the implicit midpoint rule as our timestepper and choose a small timestep to be certain that any numerical noise that we see is not the result of violating a stability condition.\n",
    "\n",
    "Unlike the previous Helmholtz equation example, we will be solving our system many times. It is more computationally efficient to create a Firedrake solver object and reuse it by updating the values in the right hand side at each timestep. In the code below, $U1$ is the function holding the solution values. In the next cell we perform one solve and see how the solution looks..."
   ]
  },
  {
   "cell_type": "code",
   "execution_count": null,
   "metadata": {
    "colab": {
     "base_uri": "https://localhost:8080/",
     "height": 282
    },
    "id": "lqWNaV1eXqQj",
    "outputId": "96cfe42b-f974-4f81-e4e5-78fcbaab3be5"
   },
   "outputs": [],
   "source": [
    "w, phi = TestFunctions(W)\n",
    "u_, h_ = TrialFunctions(W)\n",
    "dt = 0.0001\n",
    "\n",
    "a = inner(w, u_)*dx - 0.5*dt*w.dx(0)*h_*dx + inner(phi, h_)*dx + 0.5*dt*phi*u_.dx(0)*dx\n",
    "L = inner(w, u)* dx + 0.5*dt*w.dx(0)*h*dx + phi*h*dx - 0.5*dt*phi*u.dx(0)*dx\n",
    "\n",
    "U1 = Function(W)\n",
    "prob = LinearVariationalProblem(a, L, U1)\n",
    "solver = LinearVariationalSolver(prob)\n",
    "solver.solve()\n",
    "\n",
    "u1, h1 = U1.split()\n",
    "plot(h1)"
   ]
  },
  {
   "cell_type": "markdown",
   "metadata": {
    "id": "ulci1exffJ7v"
   },
   "source": [
    "Now we run for a further 1000 timesteps, plotting the fluid height every 100 timesteps. Recall that we expect to see two distinct waves propagating outwards, one in each direction."
   ]
  },
  {
   "cell_type": "code",
   "execution_count": null,
   "metadata": {
    "colab": {
     "base_uri": "https://localhost:8080/",
     "height": 1000
    },
    "id": "bPECX9tRXqQk",
    "outputId": "3f0df05d-a232-4fdb-fe0f-fa134cbfba27"
   },
   "outputs": [],
   "source": [
    "for n in range(1000):\n",
    "    U.assign(U1)\n",
    "    solver.solve()\n",
    "    if n%100 == 0:\n",
    "      plot(h1)"
   ]
  },
  {
   "cell_type": "markdown",
   "metadata": {
    "id": "bOHufVhQfmJ4"
   },
   "source": [
    "## Exercises:\n",
    "* Run the code for another 1000 timesteps and see what happens to the space inbetween the two waves.\n",
    "* Does reducing the timestep further help? Or increasing the resolution?\n",
    "* Now examine the function spaces that we chose and the derivatives that appear in our weak form. We have integrated the terms involving a spatial derivative on $h$ by parts, reducing the differentiability requirements on $h$, but we have not taken this into account when chosing our finite element function spaces. Change the definition of $V_u$ so that it is a piecewise quadratic continuous function space and that of $V_h$ so that it is a piecewise linear discontinuous function space (use \"DG\" instead of \"CG\"). Rerun the code. What happens?\n",
    "* Looking at the continuous equations, there is no obvious reason to choose the spaces in this order - why shouldn't $V_u$ be a piecewise linear discontinuous function space and $V_h$ be a piecewise quadratic continuous function space? Make this switch in the code. Does it work? What else do you have to change to make it work?"
   ]
  }
 ],
 "metadata": {
  "colab": {
   "provenance": []
  },
  "kernelspec": {
   "display_name": "Python 3 (ipykernel)",
   "language": "python",
   "name": "python3"
  },
  "language_info": {
   "codemirror_mode": {
    "name": "ipython",
    "version": 3
   },
   "file_extension": ".py",
   "mimetype": "text/x-python",
   "name": "python",
   "nbconvert_exporter": "python",
   "pygments_lexer": "ipython3",
   "version": "3.9.13"
  }
 },
 "nbformat": 4,
 "nbformat_minor": 1
}
